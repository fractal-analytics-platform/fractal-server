{
 "cells": [
  {
   "cell_type": "code",
   "execution_count": null,
   "id": "0a221f15-142f-46b0-8f7d-e08e3b26301c",
   "metadata": {},
   "outputs": [],
   "source": [
    "# Preliminary imports and auxiliary-function definition\n",
    "\n",
    "from pathlib import Path\n",
    "from devtools import debug\n",
    "import tempfile\n",
    "\n",
    "from fractal_server.app.runner.v2.models import Dataset, WorkflowTask\n",
    "from fractal_server.app.runner.v2.runner import execute_tasks_v2\n",
    "from fractal_server.images import SingleImage\n",
    "\n",
    "from concurrent.futures import ThreadPoolExecutor\n",
    "\n",
    "import sys\n",
    "sys.path.append(\"../tests/v2/04_runner\")\n",
    "from fractal_tasks_core_mock import TASK_LIST\n",
    "\n",
    "executor = ThreadPoolExecutor()\n",
    "\n",
    "\n",
    "def image_data_exist_on_disk(image_list: list[SingleImage]):\n",
    "    \"\"\"\n",
    "    Given an image list, check whether mock data were written to disk.\n",
    "    \"\"\"\n",
    "    prefix = \"[image_data_exist_on_disk]\"\n",
    "    all_images_have_data = True\n",
    "    for image in image_list:\n",
    "        if (Path(image.path) / \"data\").exists():\n",
    "            print(f\"{prefix} {image.path} contains data\")\n",
    "        else:\n",
    "            print(f\"{prefix} {image.path} does *not* contain data\")\n",
    "            all_images_have_data = False\n",
    "    return all_images_have_data"
   ]
  },
  {
   "cell_type": "code",
   "execution_count": null,
   "id": "73efec35-2572-4fe0-8107-107398d46ba8",
   "metadata": {},
   "outputs": [],
   "source": [
    "# Create temporary directory for mocked zarrs\n",
    "tmp_path = Path(tempfile.mkdtemp())\n",
    "zarr_dir = (tmp_path / \"zarr_dir\").as_posix().rstrip(\"/\")\n",
    "print(f\"{zarr_dir=}\")"
   ]
  },
  {
   "cell_type": "code",
   "execution_count": null,
   "id": "642d1104-a5d4-4d29-8416-768cb6a96e9d",
   "metadata": {},
   "outputs": [],
   "source": [
    "# Run create_ome_zarr+yokogawa_to_zarr\n",
    "dataset = execute_tasks_v2(\n",
    "    wf_task_list=[\n",
    "        WorkflowTask(\n",
    "            task=TASK_LIST[\"create_ome_zarr_compound\"],\n",
    "            args_non_parallel=dict(image_dir=\"/tmp/input_images\"),\n",
    "        ),\n",
    "    ],\n",
    "    dataset=Dataset(zarr_dir=zarr_dir),\n",
    "    executor=executor,\n",
    ")\n",
    "\n",
    "# Print current dataset information\n",
    "debug(dataset);"
   ]
  },
  {
   "cell_type": "code",
   "execution_count": null,
   "id": "393b993b-8709-4f1e-8aff-9d15a3e512ee",
   "metadata": {},
   "outputs": [],
   "source": [
    "# Run init_channel_parallelization\n",
    "dataset = execute_tasks_v2(\n",
    "    wf_task_list=[\n",
    "        WorkflowTask(\n",
    "            task=TASK_LIST[\"illumination_correction_compound\"],\n",
    "            args_non_parallel=dict(overwrite_input=False),\n",
    "        ),\n",
    "    ],\n",
    "    dataset=dataset,\n",
    "    executor=executor,\n",
    ")\n",
    "\n",
    "# Check that custom parallelization_list\n",
    "assert len(dataset.images) == 4\n",
    "\n",
    "for image in dataset.images[0:2]:\n",
    "    assert image.flags.get(\"illumination_correction\") is None\n",
    "for image in dataset.images[2:4]:\n",
    "    assert image.flags.get(\"illumination_correction\") is True\n",
    "\n",
    "# Print current dataset information\n",
    "debug(dataset);"
   ]
  },
  {
   "cell_type": "code",
   "execution_count": null,
   "id": "b22041b2-b03c-40e0-a1a8-299cb2bc6754",
   "metadata": {},
   "outputs": [],
   "source": [
    "executor.shutdown()"
   ]
  }
 ],
 "metadata": {
  "kernelspec": {
   "display_name": "Python 3 (ipykernel)",
   "language": "python",
   "name": "python3"
  },
  "language_info": {
   "codemirror_mode": {
    "name": "ipython",
    "version": 3
   },
   "file_extension": ".py",
   "mimetype": "text/x-python",
   "name": "python",
   "nbconvert_exporter": "python",
   "pygments_lexer": "ipython3",
   "version": "3.10.12"
  }
 },
 "nbformat": 4,
 "nbformat_minor": 5
}
